{
  "nbformat": 4,
  "nbformat_minor": 0,
  "metadata": {
    "colab": {
      "name": "shala_Assingment1.ipynb",
      "provenance": [],
      "authorship_tag": "ABX9TyOGiNEi9Kq8CHKkijpZ7u9+",
      "include_colab_link": true
    },
    "kernelspec": {
      "name": "python3",
      "display_name": "Python 3"
    }
  },
  "cells": [
    {
      "cell_type": "markdown",
      "metadata": {
        "id": "view-in-github",
        "colab_type": "text"
      },
      "source": [
        "<a href=\"https://colab.research.google.com/github/prateekkate/SHALA2020/blob/main/shala_Assingment1.ipynb\" target=\"_parent\"><img src=\"https://colab.research.google.com/assets/colab-badge.svg\" alt=\"Open In Colab\"/></a>"
      ]
    },
    {
      "cell_type": "code",
      "metadata": {
        "id": "MogJ5V7A5MZ2"
      },
      "source": [
        "import numpy as np"
      ],
      "execution_count": 2,
      "outputs": []
    },
    {
      "cell_type": "code",
      "metadata": {
        "colab": {
          "base_uri": "https://localhost:8080/"
        },
        "id": "g6olP_785S36",
        "outputId": "d5826fda-7fa1-446f-c0de-8f061a17963a"
      },
      "source": [
        "a = np.random.randn(3,5)\r\n",
        "b = np.random.rand(3,5)\r\n",
        "print(a)\r\n",
        "print(b)"
      ],
      "execution_count": 3,
      "outputs": [
        {
          "output_type": "stream",
          "text": [
            "[[ 0.48890947  0.74360157 -0.34285179 -0.76382845  0.35640713]\n",
            " [-0.40938499  0.7916418   0.18045751  1.12006626 -0.05991151]\n",
            " [ 1.19935972 -1.43156825 -0.82003945 -0.36797884 -0.27992222]]\n",
            "[[0.12193261 0.57091432 0.98726752 0.53395458 0.64259617]\n",
            " [0.47558606 0.19559303 0.02297103 0.98516691 0.69499775]\n",
            " [0.46731405 0.33313697 0.57699272 0.09385141 0.79399983]]\n"
          ],
          "name": "stdout"
        }
      ]
    },
    {
      "cell_type": "code",
      "metadata": {
        "colab": {
          "base_uri": "https://localhost:8080/"
        },
        "id": "dbZiDyeM5l7c",
        "outputId": "e79654f8-cc5b-48b4-d53f-a61ddf7443ed"
      },
      "source": [
        "c = np.arange(100)\r\n",
        "d = np.zeros((3,3))\r\n",
        "print(c)\r\n",
        "print(d)"
      ],
      "execution_count": 4,
      "outputs": [
        {
          "output_type": "stream",
          "text": [
            "[ 0  1  2  3  4  5  6  7  8  9 10 11 12 13 14 15 16 17 18 19 20 21 22 23\n",
            " 24 25 26 27 28 29 30 31 32 33 34 35 36 37 38 39 40 41 42 43 44 45 46 47\n",
            " 48 49 50 51 52 53 54 55 56 57 58 59 60 61 62 63 64 65 66 67 68 69 70 71\n",
            " 72 73 74 75 76 77 78 79 80 81 82 83 84 85 86 87 88 89 90 91 92 93 94 95\n",
            " 96 97 98 99]\n",
            "[[0. 0. 0.]\n",
            " [0. 0. 0.]\n",
            " [0. 0. 0.]]\n"
          ],
          "name": "stdout"
        }
      ]
    },
    {
      "cell_type": "code",
      "metadata": {
        "colab": {
          "base_uri": "https://localhost:8080/"
        },
        "id": "6DypdJ8551-3",
        "outputId": "a499e6fb-1937-4a18-d780-9339b4dc94e4"
      },
      "source": [
        "e = [[1,2,3],[4,5,6],[7,8,9]]\r\n",
        "e = np.array(e)\r\n",
        "print(e)"
      ],
      "execution_count": 5,
      "outputs": [
        {
          "output_type": "stream",
          "text": [
            "[[1 2 3]\n",
            " [4 5 6]\n",
            " [7 8 9]]\n"
          ],
          "name": "stdout"
        }
      ]
    },
    {
      "cell_type": "code",
      "metadata": {
        "colab": {
          "base_uri": "https://localhost:8080/"
        },
        "id": "5Sr_XaLV6OC5",
        "outputId": "9681c5c5-d7d1-40bb-c9e1-b8861b87967a"
      },
      "source": [
        "f = np.ones((5,5))\r\n",
        "g = np.eye(5)\r\n",
        "print(f)\r\n",
        "print(g)"
      ],
      "execution_count": 6,
      "outputs": [
        {
          "output_type": "stream",
          "text": [
            "[[1. 1. 1. 1. 1.]\n",
            " [1. 1. 1. 1. 1.]\n",
            " [1. 1. 1. 1. 1.]\n",
            " [1. 1. 1. 1. 1.]\n",
            " [1. 1. 1. 1. 1.]]\n",
            "[[1. 0. 0. 0. 0.]\n",
            " [0. 1. 0. 0. 0.]\n",
            " [0. 0. 1. 0. 0.]\n",
            " [0. 0. 0. 1. 0.]\n",
            " [0. 0. 0. 0. 1.]]\n"
          ],
          "name": "stdout"
        }
      ]
    },
    {
      "cell_type": "code",
      "metadata": {
        "colab": {
          "base_uri": "https://localhost:8080/"
        },
        "id": "lZkyRPW56g5O",
        "outputId": "443ba206-ec30-4236-d1c8-6d79593af158"
      },
      "source": [
        "h = c.reshape(10,10)\r\n",
        "c1 = np.ravel(h)\r\n",
        "if c.shape == c1.shape:\r\n",
        "  print('Yes')\r\n",
        "else:\r\n",
        "  print('No')\r\n",
        "    "
      ],
      "execution_count": 7,
      "outputs": [
        {
          "output_type": "stream",
          "text": [
            "Yes\n"
          ],
          "name": "stdout"
        }
      ]
    },
    {
      "cell_type": "code",
      "metadata": {
        "colab": {
          "base_uri": "https://localhost:8080/"
        },
        "id": "SXtH5ydH7GMM",
        "outputId": "6e37a921-bb38-4409-dec4-7f12a23cade8"
      },
      "source": [
        "A = np.random.randn(2,10,5)\r\n",
        "A1 = A.transpose(2,0,1)\r\n",
        "print(A1)"
      ],
      "execution_count": 8,
      "outputs": [
        {
          "output_type": "stream",
          "text": [
            "[[[ 0.25978588 -0.60459047  0.71470198  0.423373    1.45783935\n",
            "   -0.01367295 -0.34908443 -0.11997955 -0.71451617  0.82529326]\n",
            "  [-0.32552609 -0.00728713  1.90620172 -0.19762661  0.01636066\n",
            "    0.08407402  0.57204665 -0.30941048  0.11458458  0.37852661]]\n",
            "\n",
            " [[-0.55008822  0.83842761  0.16368424  0.9546775  -0.94581787\n",
            "   -0.52591309  1.2384154   0.61236313  0.53022979 -0.72066974]\n",
            "  [ 1.38324934  0.85528699  1.10471884  0.40729299  1.05139867\n",
            "    0.34504604  0.03483369  1.64732203 -0.36059129  0.51592736]]\n",
            "\n",
            " [[-0.98373056 -1.01717409 -0.99077034  1.42921756 -0.87219642\n",
            "   -0.0175841  -0.76237227 -0.39216215  1.5818488   0.54655741]\n",
            "  [ 1.23901681  0.71397427  0.41206666 -0.5888795  -0.62188476\n",
            "    0.66457483  0.95606786  0.56171844  0.71145277 -1.8167435 ]]\n",
            "\n",
            " [[ 0.22330439 -0.32376894 -1.34461083 -0.23624399 -0.7970253\n",
            "    0.38160525 -0.70210539 -0.18964989 -0.76079859  0.61655066]\n",
            "  [-0.16003558 -0.68081457 -0.32895937  1.27883734  0.96485888\n",
            "    0.51913354  1.02018877 -1.3617719  -0.32835009  0.96246422]]\n",
            "\n",
            " [[ 0.68750466 -0.72728327 -1.49963002 -1.50227068  2.02482206\n",
            "    1.02291795  0.17242488 -0.2879293  -1.68273179 -0.42749359]\n",
            "  [ 0.13537428 -3.14985714  2.97614598  0.96805429 -2.87430402\n",
            "    0.10442151 -0.64396145  0.17055907 -0.2708739   0.4022035 ]]]\n"
          ],
          "name": "stdout"
        }
      ]
    },
    {
      "cell_type": "code",
      "metadata": {
        "colab": {
          "base_uri": "https://localhost:8080/"
        },
        "id": "2diQapkBs0yR",
        "outputId": "380c43fa-fd84-4469-ad7f-4359572dfbf4"
      },
      "source": [
        "X = np.random.randn(10,5)\r\n",
        "print(np.max(X,axis=0),np.argmax(X,axis=0))\r\n",
        "print(np.min(X,axis=0),np.argmin(X,axis=0))\r\n",
        "print(np.max(X,axis=1),np.argmax(X,axis=1))\r\n",
        "print(np.min(X,axis=1),np.argmin(X,axis=1))\r\n",
        "print(np.max(X))\r\n",
        "print(np.min(X))\r\n",
        "\r\n"
      ],
      "execution_count": 15,
      "outputs": [
        {
          "output_type": "stream",
          "text": [
            "[1.60667995 0.82384133 0.90036212 2.18074543 1.83746565] [3 7 3 6 2]\n",
            "[-1.40900587 -1.77480405 -1.38019426 -1.88825194 -1.33608385] [6 5 7 4 9]\n",
            "[0.78766296 0.14847172 1.83746565 1.60667995 0.45217451 1.85037275\n",
            " 2.18074543 1.00883901 0.64963052 1.4381759 ] [4 0 4 0 0 3 3 0 0 0]\n",
            "[-0.73976745 -1.0115331  -1.66378124 -1.8352521  -1.88825194 -1.77480405\n",
            " -1.40900587 -1.38019426 -0.64826805 -1.33608385] [2 4 1 3 3 1 0 2 2 4]\n",
            "2.180745428153329\n",
            "-1.8882519396851982\n"
          ],
          "name": "stdout"
        }
      ]
    },
    {
      "cell_type": "code",
      "metadata": {
        "colab": {
          "base_uri": "https://localhost:8080/"
        },
        "id": "70Ty5VBbtMaR",
        "outputId": "5b7b490b-b444-4c0e-8ef1-7a3f4cd1ac74"
      },
      "source": [
        "print(np.mean(X,axis=0))\r\n",
        "print(np.mean(X,axis=1))\r\n",
        "print(np.std(X,axis=1))\r\n",
        "print(np.std(X,axis=0))\r\n",
        "print(np.mean(X))\r\n",
        "print(np.std(X))\r\n"
      ],
      "execution_count": 16,
      "outputs": [
        {
          "output_type": "stream",
          "text": [
            "[ 0.55809379 -0.55481516 -0.49522341 -0.02798153  0.07840048]\n",
            "[-0.02104269 -0.54339119  0.46614397  0.16710275 -0.74626743  0.04317044\n",
            " -0.15970394 -0.00841809  0.06280773 -0.14345321]\n",
            "[0.61317911 0.48118422 1.31858451 1.29118747 0.77103007 1.33133341\n",
            " 1.22456565 0.9270477  0.4553719  1.10777128]\n",
            "[0.91075831 0.80591688 0.72641404 1.35423553 0.97453699]\n",
            "-0.08830516619507194\n",
            "1.0604538295756474\n"
          ],
          "name": "stdout"
        }
      ]
    },
    {
      "cell_type": "code",
      "metadata": {
        "colab": {
          "base_uri": "https://localhost:8080/"
        },
        "id": "71AxFYXUucPa",
        "outputId": "fe87bb03-387d-4158-e547-0485071b2d8f"
      },
      "source": [
        "Y = np.random.randn(10,10)\r\n",
        "a = np.linalg.det(Y)\r\n",
        "print(np.linalg.det(Y))\r\n",
        "print(np.linalg.matrix_rank(Y))\r\n",
        "print(np.diag(Y))\r\n",
        "print(np.trace(Y))\r\n",
        "print(np.linalg.eigvals(Y))\r\n",
        "print(np.linalg.svd(Y))\r\n",
        "print(np.linalg.pinv(X))\r\n",
        "print(np.matmul(Y,X))\r\n",
        "print(np.dot(Y,np.linalg.pinv(Y)))"
      ],
      "execution_count": 24,
      "outputs": [
        {
          "output_type": "stream",
          "text": [
            "833.6927979133706\n",
            "10\n",
            "[-2.40197517e-02  1.24809972e+00  4.47982870e-01 -9.24779400e-01\n",
            "  1.26551141e+00  2.27064131e-01 -1.15319219e-01  1.41246529e-03\n",
            " -1.52416350e+00 -2.04219309e-01]\n",
            "0.39756941912120414\n",
            "[-2.50996316+2.71954116j -2.50996316-2.71954116j -0.57086926+0.98412151j\n",
            " -0.57086926-0.98412151j  0.95199303+2.15885228j  0.95199303-2.15885228j\n",
            "  0.37002514+1.37447893j  0.37002514-1.37447893j  1.95759896+0.58070373j\n",
            "  1.95759896-0.58070373j]\n",
            "(array([[-0.20984711,  0.24022576,  0.16412696, -0.25702599,  0.390898  ,\n",
            "         0.08338153,  0.33645565,  0.11402834,  0.5105939 , -0.50851847],\n",
            "       [-0.02224169,  0.38200748, -0.19430965,  0.35761156,  0.18745112,\n",
            "        -0.64948054,  0.18547413,  0.01337407, -0.36267711, -0.25466885],\n",
            "       [ 0.21764907, -0.11024576,  0.35118557,  0.36709706,  0.02262019,\n",
            "         0.23521797,  0.67557513, -0.38704334, -0.10313683,  0.09850138],\n",
            "       [ 0.23149399,  0.3457705 ,  0.60507487,  0.14047778,  0.19897302,\n",
            "         0.23498441, -0.30094256,  0.41695903, -0.28582006, -0.00902198],\n",
            "       [ 0.02706346,  0.19721593, -0.55066262,  0.54774806,  0.20308018,\n",
            "         0.51659638, -0.09030417,  0.10230487,  0.17418883,  0.00631911],\n",
            "       [-0.19036775,  0.32768075,  0.16774827,  0.11774495, -0.35740304,\n",
            "         0.13687028, -0.3667618 , -0.61776058,  0.01619226, -0.3892392 ],\n",
            "       [-0.45220262, -0.04140622,  0.08673343, -0.04571582,  0.66676013,\n",
            "         0.0021191 , -0.19597648, -0.37581147, -0.14297873,  0.3735347 ],\n",
            "       [ 0.62516743, -0.08900352, -0.24682158, -0.37113097,  0.34424751,\n",
            "         0.12999111, -0.10712474, -0.29498523, -0.26743286, -0.31171878],\n",
            "       [-0.0878261 ,  0.63282789, -0.19963828, -0.44231687, -0.18784267,\n",
            "         0.22872268,  0.30540782, -0.01748185, -0.24607289,  0.3385047 ],\n",
            "       [ 0.46314323,  0.32905086,  0.07868522,  0.04683157,  0.06797146,\n",
            "        -0.32535495, -0.14001172, -0.20618125,  0.5764632 ,  0.40489449]]), array([7.44078968, 5.39274262, 4.41701543, 4.01025485, 2.62549356,\n",
            "       2.44048989, 1.47538696, 1.24455492, 0.6836535 , 0.14582514]), array([[ 0.36195137,  0.14493993,  0.17030633, -0.11587189, -0.25107467,\n",
            "         0.31959693, -0.25185526,  0.21739303,  0.64553648, -0.33610155],\n",
            "       [-0.01778311,  0.2747627 ,  0.70811552, -0.08726578,  0.45484151,\n",
            "         0.22624942, -0.28935332, -0.15587117, -0.19651437,  0.10216484],\n",
            "       [ 0.00115448,  0.12519371, -0.06055625, -0.37609184, -0.22323544,\n",
            "        -0.20801706, -0.45478631,  0.6103081 , -0.30662931,  0.26977735],\n",
            "       [-0.35779004,  0.2304558 ,  0.28896637,  0.26405499,  0.17916625,\n",
            "        -0.48336366,  0.26594046,  0.46572155,  0.28046319, -0.18338031],\n",
            "       [ 0.21122321, -0.34160876, -0.07969518,  0.72248036,  0.21791559,\n",
            "         0.01522664, -0.46417298,  0.20925341, -0.05413565,  0.02158105],\n",
            "       [-0.40685349, -0.29314177,  0.17578942, -0.00890467, -0.26591503,\n",
            "         0.25196771, -0.06795815,  0.10570614, -0.38230587, -0.64915986],\n",
            "       [ 0.00902712,  0.0235511 ,  0.20009661,  0.06047818, -0.38252601,\n",
            "        -0.61352969, -0.39497702, -0.50913989,  0.057632  , -0.11987927],\n",
            "       [ 0.63609592, -0.12531813,  0.02434236, -0.23871117,  0.31531818,\n",
            "        -0.33683844,  0.19047018,  0.08087185, -0.27025511, -0.43972617],\n",
            "       [-0.1646736 , -0.76239613,  0.21090273, -0.3686904 ,  0.19560407,\n",
            "        -0.11724254, -0.05343569,  0.03053746,  0.34449468,  0.19170527],\n",
            "       [-0.31416238,  0.1859536 , -0.50993641, -0.22171572,  0.49591879,\n",
            "        -0.04912508, -0.40009085, -0.13196561,  0.16691108, -0.32223379]]))\n",
            "[[-0.20146376 -0.05794407  0.07803786 -0.08103945 -0.1888112   0.06576256\n",
            "  -0.14501482  0.23981237  0.20662451  0.25389145]\n",
            " [-0.13737862 -0.09438416 -0.08347621 -0.17914465 -0.25299852 -0.11472056\n",
            "  -0.12750935  0.25017509  0.19086885 -0.00398286]\n",
            " [-0.11429086 -0.15056215 -0.02687773  0.06894148 -0.17931433 -0.1161141\n",
            "  -0.06102904 -0.17675365 -0.06614715  0.13310442]\n",
            " [-0.11696049 -0.09682249  0.02873468 -0.19755488 -0.2448499   0.08296749\n",
            "   0.0451444   0.06516905  0.10114013  0.14189628]\n",
            " [ 0.14552726 -0.08255903  0.13485721  0.17671223 -0.03251141 -0.03376512\n",
            "  -0.05277199 -0.01508346 -0.05122888 -0.2625707 ]]\n",
            "[[ 2.32303852 -2.46004696  3.75713397 -3.03450472 -0.23012095]\n",
            " [ 5.47017946 -4.28172369 -0.86722824 -5.74347307 -0.53957334]\n",
            " [ 2.24600913  5.00019132 -0.98188257 -2.68372536  2.76599484]\n",
            " [ 5.5704541   0.5955828  -5.42127456 -2.76139336  3.2970563 ]\n",
            " [ 2.61079147 -3.0314118  -1.81715897 -0.71719309  4.9376739 ]\n",
            " [ 2.60984355 -3.47660911 -0.13961724 -0.08212864 -2.59039409]\n",
            " [ 2.03125557 -1.18852633  6.62028386 -7.4351955  -3.81816171]\n",
            " [ 2.09377458 -0.78100233 -5.5271644   5.63970655  8.12236066]\n",
            " [ 1.88605384 -8.2525095   0.43927165  3.58279826  1.42065435]\n",
            " [ 6.33050144 -2.32771197 -6.59891061  0.51008048  4.20330014]]\n",
            "[[ 1.00000000e+00  1.46097998e-16 -8.84991571e-16  1.38783638e-16\n",
            "  -6.74616645e-17  4.19285298e-16 -6.58017190e-17  4.51558828e-16\n",
            "  -3.14169002e-17 -2.62967263e-16]\n",
            " [-1.74031092e-15  1.00000000e+00  1.30792050e-16  4.65970652e-16\n",
            "  -1.63881938e-16 -5.92286205e-16  1.04497758e-15 -9.45341947e-16\n",
            "   7.36547041e-16  3.78606576e-16]\n",
            " [-3.84913921e-16  5.61525979e-17  1.00000000e+00  1.41902845e-16\n",
            "   9.11189843e-16  1.34878405e-16 -4.61036240e-16 -2.98069503e-16\n",
            "  -8.06030838e-16  3.82843062e-16]\n",
            " [ 3.50850447e-15  9.40424732e-16 -5.10360831e-16  1.00000000e+00\n",
            "   7.50576703e-16  2.16584564e-15 -2.43594966e-15  2.03925612e-15\n",
            "  -1.52392232e-15 -1.61636176e-15]\n",
            " [ 1.84561983e-16  4.17301994e-18  3.58942120e-16  1.69462303e-16\n",
            "   1.00000000e+00  2.15813741e-16  2.28877462e-16 -5.98156423e-16\n",
            "  -4.36603023e-16  2.59037682e-16]\n",
            " [ 3.42336269e-15  7.90043193e-16 -8.81307470e-16 -2.96397386e-16\n",
            "   7.17359000e-16  1.00000000e+00 -1.90672994e-15  1.13310891e-15\n",
            "  -1.55943415e-15 -1.57985276e-15]\n",
            " [ 2.54650232e-16 -3.94754183e-17 -3.84506200e-16  1.95942613e-17\n",
            "  -1.47532838e-17 -6.70663158e-16  1.00000000e+00  7.00937313e-18\n",
            "   2.01880013e-16 -2.53037726e-16]\n",
            " [-3.57124037e-15 -1.21655375e-15  1.54315411e-15 -1.72664000e-16\n",
            "  -5.70766844e-16 -7.85477464e-16  1.76602862e-15  1.00000000e+00\n",
            "   1.95882886e-15  2.88153545e-15]\n",
            " [ 3.51961510e-15  1.63099527e-15 -1.48242906e-15  3.28084120e-16\n",
            "  -3.27074928e-16  3.53116636e-15 -2.14845149e-15  2.34422608e-15\n",
            "   1.00000000e+00 -2.21343671e-15]\n",
            " [-2.80208761e-15 -5.44975163e-16  7.80707210e-16 -1.53878610e-16\n",
            "  -1.65401559e-16 -5.29113326e-16  1.25019077e-15 -6.63182340e-16\n",
            "   1.48629431e-15  1.00000000e+00]]\n"
          ],
          "name": "stdout"
        }
      ]
    },
    {
      "cell_type": "markdown",
      "metadata": {
        "id": "rdYCjynuv98M"
      },
      "source": [
        "PANDAS"
      ]
    },
    {
      "cell_type": "code",
      "metadata": {
        "id": "IvltEXtDujeD"
      },
      "source": [
        "import numpy as np\r\n",
        "import matplotlib.pyplot as plt\r\n",
        "import pandas as pd"
      ],
      "execution_count": 66,
      "outputs": []
    },
    {
      "cell_type": "code",
      "metadata": {
        "colab": {
          "base_uri": "https://localhost:8080/",
          "height": 238
        },
        "id": "fF_POP6OwEI9",
        "outputId": "a6eda4b8-72a6-4b17-f819-65c82a37724c"
      },
      "source": [
        "#file_url = \"http://biostat.mc.vanderbilt.edu/wiki/pub/Main/DataSets/titanic3.csv\"\r\n",
        "data = pd.read_csv('tested.csv')\r\n",
        "data.head()"
      ],
      "execution_count": 67,
      "outputs": [
        {
          "output_type": "execute_result",
          "data": {
            "text/html": [
              "<div>\n",
              "<style scoped>\n",
              "    .dataframe tbody tr th:only-of-type {\n",
              "        vertical-align: middle;\n",
              "    }\n",
              "\n",
              "    .dataframe tbody tr th {\n",
              "        vertical-align: top;\n",
              "    }\n",
              "\n",
              "    .dataframe thead th {\n",
              "        text-align: right;\n",
              "    }\n",
              "</style>\n",
              "<table border=\"1\" class=\"dataframe\">\n",
              "  <thead>\n",
              "    <tr style=\"text-align: right;\">\n",
              "      <th></th>\n",
              "      <th>PassengerId</th>\n",
              "      <th>Survived</th>\n",
              "      <th>Pclass</th>\n",
              "      <th>Name</th>\n",
              "      <th>Sex</th>\n",
              "      <th>Age</th>\n",
              "      <th>SibSp</th>\n",
              "      <th>Parch</th>\n",
              "      <th>Ticket</th>\n",
              "      <th>Fare</th>\n",
              "      <th>Cabin</th>\n",
              "      <th>Embarked</th>\n",
              "    </tr>\n",
              "  </thead>\n",
              "  <tbody>\n",
              "    <tr>\n",
              "      <th>0</th>\n",
              "      <td>892</td>\n",
              "      <td>0</td>\n",
              "      <td>3</td>\n",
              "      <td>Kelly, Mr. James</td>\n",
              "      <td>male</td>\n",
              "      <td>34.5</td>\n",
              "      <td>0</td>\n",
              "      <td>0</td>\n",
              "      <td>330911</td>\n",
              "      <td>7.8292</td>\n",
              "      <td>NaN</td>\n",
              "      <td>Q</td>\n",
              "    </tr>\n",
              "    <tr>\n",
              "      <th>1</th>\n",
              "      <td>893</td>\n",
              "      <td>1</td>\n",
              "      <td>3</td>\n",
              "      <td>Wilkes, Mrs. James (Ellen Needs)</td>\n",
              "      <td>female</td>\n",
              "      <td>47.0</td>\n",
              "      <td>1</td>\n",
              "      <td>0</td>\n",
              "      <td>363272</td>\n",
              "      <td>7.0000</td>\n",
              "      <td>NaN</td>\n",
              "      <td>S</td>\n",
              "    </tr>\n",
              "    <tr>\n",
              "      <th>2</th>\n",
              "      <td>894</td>\n",
              "      <td>0</td>\n",
              "      <td>2</td>\n",
              "      <td>Myles, Mr. Thomas Francis</td>\n",
              "      <td>male</td>\n",
              "      <td>62.0</td>\n",
              "      <td>0</td>\n",
              "      <td>0</td>\n",
              "      <td>240276</td>\n",
              "      <td>9.6875</td>\n",
              "      <td>NaN</td>\n",
              "      <td>Q</td>\n",
              "    </tr>\n",
              "    <tr>\n",
              "      <th>3</th>\n",
              "      <td>895</td>\n",
              "      <td>0</td>\n",
              "      <td>3</td>\n",
              "      <td>Wirz, Mr. Albert</td>\n",
              "      <td>male</td>\n",
              "      <td>27.0</td>\n",
              "      <td>0</td>\n",
              "      <td>0</td>\n",
              "      <td>315154</td>\n",
              "      <td>8.6625</td>\n",
              "      <td>NaN</td>\n",
              "      <td>S</td>\n",
              "    </tr>\n",
              "    <tr>\n",
              "      <th>4</th>\n",
              "      <td>896</td>\n",
              "      <td>1</td>\n",
              "      <td>3</td>\n",
              "      <td>Hirvonen, Mrs. Alexander (Helga E Lindqvist)</td>\n",
              "      <td>female</td>\n",
              "      <td>22.0</td>\n",
              "      <td>1</td>\n",
              "      <td>1</td>\n",
              "      <td>3101298</td>\n",
              "      <td>12.2875</td>\n",
              "      <td>NaN</td>\n",
              "      <td>S</td>\n",
              "    </tr>\n",
              "  </tbody>\n",
              "</table>\n",
              "</div>"
            ],
            "text/plain": [
              "   PassengerId  Survived  Pclass  ...     Fare Cabin  Embarked\n",
              "0          892         0       3  ...   7.8292   NaN         Q\n",
              "1          893         1       3  ...   7.0000   NaN         S\n",
              "2          894         0       2  ...   9.6875   NaN         Q\n",
              "3          895         0       3  ...   8.6625   NaN         S\n",
              "4          896         1       3  ...  12.2875   NaN         S\n",
              "\n",
              "[5 rows x 12 columns]"
            ]
          },
          "metadata": {
            "tags": []
          },
          "execution_count": 67
        }
      ]
    },
    {
      "cell_type": "code",
      "metadata": {
        "id": "uZ261M5kwGPs"
      },
      "source": [
        "sex = pd.get_dummies(data.Sex)"
      ],
      "execution_count": 68,
      "outputs": []
    },
    {
      "cell_type": "code",
      "metadata": {
        "id": "yr2JWXhSyJB5"
      },
      "source": [
        "Pclass = pd.get_dummies(data.Pclass)\r\n",
        "Embarked = pd.get_dummies(data.Embarked)"
      ],
      "execution_count": 69,
      "outputs": []
    },
    {
      "cell_type": "code",
      "metadata": {
        "id": "fH1BHWmiyU4u"
      },
      "source": [
        "titanic_data_new = pd.concat([sex,Pclass,Embarked],axis=1)"
      ],
      "execution_count": 70,
      "outputs": []
    },
    {
      "cell_type": "code",
      "metadata": {
        "colab": {
          "base_uri": "https://localhost:8080/",
          "height": 419
        },
        "id": "N-GreBxRyeQd",
        "outputId": "1d2d578e-66ba-49e1-c9fd-878ea609c978"
      },
      "source": [
        "titanic_data_new"
      ],
      "execution_count": 71,
      "outputs": [
        {
          "output_type": "execute_result",
          "data": {
            "text/html": [
              "<div>\n",
              "<style scoped>\n",
              "    .dataframe tbody tr th:only-of-type {\n",
              "        vertical-align: middle;\n",
              "    }\n",
              "\n",
              "    .dataframe tbody tr th {\n",
              "        vertical-align: top;\n",
              "    }\n",
              "\n",
              "    .dataframe thead th {\n",
              "        text-align: right;\n",
              "    }\n",
              "</style>\n",
              "<table border=\"1\" class=\"dataframe\">\n",
              "  <thead>\n",
              "    <tr style=\"text-align: right;\">\n",
              "      <th></th>\n",
              "      <th>female</th>\n",
              "      <th>male</th>\n",
              "      <th>1</th>\n",
              "      <th>2</th>\n",
              "      <th>3</th>\n",
              "      <th>C</th>\n",
              "      <th>Q</th>\n",
              "      <th>S</th>\n",
              "    </tr>\n",
              "  </thead>\n",
              "  <tbody>\n",
              "    <tr>\n",
              "      <th>0</th>\n",
              "      <td>0</td>\n",
              "      <td>1</td>\n",
              "      <td>0</td>\n",
              "      <td>0</td>\n",
              "      <td>1</td>\n",
              "      <td>0</td>\n",
              "      <td>1</td>\n",
              "      <td>0</td>\n",
              "    </tr>\n",
              "    <tr>\n",
              "      <th>1</th>\n",
              "      <td>1</td>\n",
              "      <td>0</td>\n",
              "      <td>0</td>\n",
              "      <td>0</td>\n",
              "      <td>1</td>\n",
              "      <td>0</td>\n",
              "      <td>0</td>\n",
              "      <td>1</td>\n",
              "    </tr>\n",
              "    <tr>\n",
              "      <th>2</th>\n",
              "      <td>0</td>\n",
              "      <td>1</td>\n",
              "      <td>0</td>\n",
              "      <td>1</td>\n",
              "      <td>0</td>\n",
              "      <td>0</td>\n",
              "      <td>1</td>\n",
              "      <td>0</td>\n",
              "    </tr>\n",
              "    <tr>\n",
              "      <th>3</th>\n",
              "      <td>0</td>\n",
              "      <td>1</td>\n",
              "      <td>0</td>\n",
              "      <td>0</td>\n",
              "      <td>1</td>\n",
              "      <td>0</td>\n",
              "      <td>0</td>\n",
              "      <td>1</td>\n",
              "    </tr>\n",
              "    <tr>\n",
              "      <th>4</th>\n",
              "      <td>1</td>\n",
              "      <td>0</td>\n",
              "      <td>0</td>\n",
              "      <td>0</td>\n",
              "      <td>1</td>\n",
              "      <td>0</td>\n",
              "      <td>0</td>\n",
              "      <td>1</td>\n",
              "    </tr>\n",
              "    <tr>\n",
              "      <th>...</th>\n",
              "      <td>...</td>\n",
              "      <td>...</td>\n",
              "      <td>...</td>\n",
              "      <td>...</td>\n",
              "      <td>...</td>\n",
              "      <td>...</td>\n",
              "      <td>...</td>\n",
              "      <td>...</td>\n",
              "    </tr>\n",
              "    <tr>\n",
              "      <th>413</th>\n",
              "      <td>0</td>\n",
              "      <td>1</td>\n",
              "      <td>0</td>\n",
              "      <td>0</td>\n",
              "      <td>1</td>\n",
              "      <td>0</td>\n",
              "      <td>0</td>\n",
              "      <td>1</td>\n",
              "    </tr>\n",
              "    <tr>\n",
              "      <th>414</th>\n",
              "      <td>1</td>\n",
              "      <td>0</td>\n",
              "      <td>1</td>\n",
              "      <td>0</td>\n",
              "      <td>0</td>\n",
              "      <td>1</td>\n",
              "      <td>0</td>\n",
              "      <td>0</td>\n",
              "    </tr>\n",
              "    <tr>\n",
              "      <th>415</th>\n",
              "      <td>0</td>\n",
              "      <td>1</td>\n",
              "      <td>0</td>\n",
              "      <td>0</td>\n",
              "      <td>1</td>\n",
              "      <td>0</td>\n",
              "      <td>0</td>\n",
              "      <td>1</td>\n",
              "    </tr>\n",
              "    <tr>\n",
              "      <th>416</th>\n",
              "      <td>0</td>\n",
              "      <td>1</td>\n",
              "      <td>0</td>\n",
              "      <td>0</td>\n",
              "      <td>1</td>\n",
              "      <td>0</td>\n",
              "      <td>0</td>\n",
              "      <td>1</td>\n",
              "    </tr>\n",
              "    <tr>\n",
              "      <th>417</th>\n",
              "      <td>0</td>\n",
              "      <td>1</td>\n",
              "      <td>0</td>\n",
              "      <td>0</td>\n",
              "      <td>1</td>\n",
              "      <td>1</td>\n",
              "      <td>0</td>\n",
              "      <td>0</td>\n",
              "    </tr>\n",
              "  </tbody>\n",
              "</table>\n",
              "<p>418 rows × 8 columns</p>\n",
              "</div>"
            ],
            "text/plain": [
              "     female  male  1  2  3  C  Q  S\n",
              "0         0     1  0  0  1  0  1  0\n",
              "1         1     0  0  0  1  0  0  1\n",
              "2         0     1  0  1  0  0  1  0\n",
              "3         0     1  0  0  1  0  0  1\n",
              "4         1     0  0  0  1  0  0  1\n",
              "..      ...   ... .. .. .. .. .. ..\n",
              "413       0     1  0  0  1  0  0  1\n",
              "414       1     0  1  0  0  1  0  0\n",
              "415       0     1  0  0  1  0  0  1\n",
              "416       0     1  0  0  1  0  0  1\n",
              "417       0     1  0  0  1  1  0  0\n",
              "\n",
              "[418 rows x 8 columns]"
            ]
          },
          "metadata": {
            "tags": []
          },
          "execution_count": 71
        }
      ]
    },
    {
      "cell_type": "code",
      "metadata": {
        "id": "l-uY_iqZyfb7"
      },
      "source": [
        "Age = data['Age'].fillna(data.Age.mean())\r\n",
        "Fare = data['Fare'].fillna(data.Fare.mean())\r\n",
        "titanic_data_new = pd.concat([titanic_data_new,Age,Fare],axis=1)"
      ],
      "execution_count": 72,
      "outputs": []
    },
    {
      "cell_type": "code",
      "metadata": {
        "colab": {
          "base_uri": "https://localhost:8080/",
          "height": 419
        },
        "id": "EOzkhiENzEpL",
        "outputId": "7a4de144-55d0-4d8a-a239-793ea8b73bb6"
      },
      "source": [
        "titanic_data_new"
      ],
      "execution_count": 73,
      "outputs": [
        {
          "output_type": "execute_result",
          "data": {
            "text/html": [
              "<div>\n",
              "<style scoped>\n",
              "    .dataframe tbody tr th:only-of-type {\n",
              "        vertical-align: middle;\n",
              "    }\n",
              "\n",
              "    .dataframe tbody tr th {\n",
              "        vertical-align: top;\n",
              "    }\n",
              "\n",
              "    .dataframe thead th {\n",
              "        text-align: right;\n",
              "    }\n",
              "</style>\n",
              "<table border=\"1\" class=\"dataframe\">\n",
              "  <thead>\n",
              "    <tr style=\"text-align: right;\">\n",
              "      <th></th>\n",
              "      <th>female</th>\n",
              "      <th>male</th>\n",
              "      <th>1</th>\n",
              "      <th>2</th>\n",
              "      <th>3</th>\n",
              "      <th>C</th>\n",
              "      <th>Q</th>\n",
              "      <th>S</th>\n",
              "      <th>Age</th>\n",
              "      <th>Fare</th>\n",
              "    </tr>\n",
              "  </thead>\n",
              "  <tbody>\n",
              "    <tr>\n",
              "      <th>0</th>\n",
              "      <td>0</td>\n",
              "      <td>1</td>\n",
              "      <td>0</td>\n",
              "      <td>0</td>\n",
              "      <td>1</td>\n",
              "      <td>0</td>\n",
              "      <td>1</td>\n",
              "      <td>0</td>\n",
              "      <td>34.50000</td>\n",
              "      <td>7.8292</td>\n",
              "    </tr>\n",
              "    <tr>\n",
              "      <th>1</th>\n",
              "      <td>1</td>\n",
              "      <td>0</td>\n",
              "      <td>0</td>\n",
              "      <td>0</td>\n",
              "      <td>1</td>\n",
              "      <td>0</td>\n",
              "      <td>0</td>\n",
              "      <td>1</td>\n",
              "      <td>47.00000</td>\n",
              "      <td>7.0000</td>\n",
              "    </tr>\n",
              "    <tr>\n",
              "      <th>2</th>\n",
              "      <td>0</td>\n",
              "      <td>1</td>\n",
              "      <td>0</td>\n",
              "      <td>1</td>\n",
              "      <td>0</td>\n",
              "      <td>0</td>\n",
              "      <td>1</td>\n",
              "      <td>0</td>\n",
              "      <td>62.00000</td>\n",
              "      <td>9.6875</td>\n",
              "    </tr>\n",
              "    <tr>\n",
              "      <th>3</th>\n",
              "      <td>0</td>\n",
              "      <td>1</td>\n",
              "      <td>0</td>\n",
              "      <td>0</td>\n",
              "      <td>1</td>\n",
              "      <td>0</td>\n",
              "      <td>0</td>\n",
              "      <td>1</td>\n",
              "      <td>27.00000</td>\n",
              "      <td>8.6625</td>\n",
              "    </tr>\n",
              "    <tr>\n",
              "      <th>4</th>\n",
              "      <td>1</td>\n",
              "      <td>0</td>\n",
              "      <td>0</td>\n",
              "      <td>0</td>\n",
              "      <td>1</td>\n",
              "      <td>0</td>\n",
              "      <td>0</td>\n",
              "      <td>1</td>\n",
              "      <td>22.00000</td>\n",
              "      <td>12.2875</td>\n",
              "    </tr>\n",
              "    <tr>\n",
              "      <th>...</th>\n",
              "      <td>...</td>\n",
              "      <td>...</td>\n",
              "      <td>...</td>\n",
              "      <td>...</td>\n",
              "      <td>...</td>\n",
              "      <td>...</td>\n",
              "      <td>...</td>\n",
              "      <td>...</td>\n",
              "      <td>...</td>\n",
              "      <td>...</td>\n",
              "    </tr>\n",
              "    <tr>\n",
              "      <th>413</th>\n",
              "      <td>0</td>\n",
              "      <td>1</td>\n",
              "      <td>0</td>\n",
              "      <td>0</td>\n",
              "      <td>1</td>\n",
              "      <td>0</td>\n",
              "      <td>0</td>\n",
              "      <td>1</td>\n",
              "      <td>30.27259</td>\n",
              "      <td>8.0500</td>\n",
              "    </tr>\n",
              "    <tr>\n",
              "      <th>414</th>\n",
              "      <td>1</td>\n",
              "      <td>0</td>\n",
              "      <td>1</td>\n",
              "      <td>0</td>\n",
              "      <td>0</td>\n",
              "      <td>1</td>\n",
              "      <td>0</td>\n",
              "      <td>0</td>\n",
              "      <td>39.00000</td>\n",
              "      <td>108.9000</td>\n",
              "    </tr>\n",
              "    <tr>\n",
              "      <th>415</th>\n",
              "      <td>0</td>\n",
              "      <td>1</td>\n",
              "      <td>0</td>\n",
              "      <td>0</td>\n",
              "      <td>1</td>\n",
              "      <td>0</td>\n",
              "      <td>0</td>\n",
              "      <td>1</td>\n",
              "      <td>38.50000</td>\n",
              "      <td>7.2500</td>\n",
              "    </tr>\n",
              "    <tr>\n",
              "      <th>416</th>\n",
              "      <td>0</td>\n",
              "      <td>1</td>\n",
              "      <td>0</td>\n",
              "      <td>0</td>\n",
              "      <td>1</td>\n",
              "      <td>0</td>\n",
              "      <td>0</td>\n",
              "      <td>1</td>\n",
              "      <td>30.27259</td>\n",
              "      <td>8.0500</td>\n",
              "    </tr>\n",
              "    <tr>\n",
              "      <th>417</th>\n",
              "      <td>0</td>\n",
              "      <td>1</td>\n",
              "      <td>0</td>\n",
              "      <td>0</td>\n",
              "      <td>1</td>\n",
              "      <td>1</td>\n",
              "      <td>0</td>\n",
              "      <td>0</td>\n",
              "      <td>30.27259</td>\n",
              "      <td>22.3583</td>\n",
              "    </tr>\n",
              "  </tbody>\n",
              "</table>\n",
              "<p>418 rows × 10 columns</p>\n",
              "</div>"
            ],
            "text/plain": [
              "     female  male  1  2  3  C  Q  S       Age      Fare\n",
              "0         0     1  0  0  1  0  1  0  34.50000    7.8292\n",
              "1         1     0  0  0  1  0  0  1  47.00000    7.0000\n",
              "2         0     1  0  1  0  0  1  0  62.00000    9.6875\n",
              "3         0     1  0  0  1  0  0  1  27.00000    8.6625\n",
              "4         1     0  0  0  1  0  0  1  22.00000   12.2875\n",
              "..      ...   ... .. .. .. .. .. ..       ...       ...\n",
              "413       0     1  0  0  1  0  0  1  30.27259    8.0500\n",
              "414       1     0  1  0  0  1  0  0  39.00000  108.9000\n",
              "415       0     1  0  0  1  0  0  1  38.50000    7.2500\n",
              "416       0     1  0  0  1  0  0  1  30.27259    8.0500\n",
              "417       0     1  0  0  1  1  0  0  30.27259   22.3583\n",
              "\n",
              "[418 rows x 10 columns]"
            ]
          },
          "metadata": {
            "tags": []
          },
          "execution_count": 73
        }
      ]
    },
    {
      "cell_type": "code",
      "metadata": {
        "colab": {
          "base_uri": "https://localhost:8080/"
        },
        "id": "YZnN4vIDzM9G",
        "outputId": "993d5564-47fd-48cc-ba38-424b93c752f6"
      },
      "source": [
        "titanic_data_new.info()"
      ],
      "execution_count": 74,
      "outputs": [
        {
          "output_type": "stream",
          "text": [
            "<class 'pandas.core.frame.DataFrame'>\n",
            "RangeIndex: 418 entries, 0 to 417\n",
            "Data columns (total 10 columns):\n",
            " #   Column  Non-Null Count  Dtype  \n",
            "---  ------  --------------  -----  \n",
            " 0   female  418 non-null    uint8  \n",
            " 1   male    418 non-null    uint8  \n",
            " 2   1       418 non-null    uint8  \n",
            " 3   2       418 non-null    uint8  \n",
            " 4   3       418 non-null    uint8  \n",
            " 5   C       418 non-null    uint8  \n",
            " 6   Q       418 non-null    uint8  \n",
            " 7   S       418 non-null    uint8  \n",
            " 8   Age     418 non-null    float64\n",
            " 9   Fare    418 non-null    float64\n",
            "dtypes: float64(2), uint8(8)\n",
            "memory usage: 9.9 KB\n"
          ],
          "name": "stdout"
        }
      ]
    },
    {
      "cell_type": "code",
      "metadata": {
        "id": "ydNhmsNkzc5W"
      },
      "source": [
        "Age = (Age - Age.mean())/Age.std()\r\n",
        "Fare = (Fare - Fare.mean())/Fare.std()\r\n",
        "columns = data.select_dtypes(include=['int','float'])"
      ],
      "execution_count": 75,
      "outputs": []
    },
    {
      "cell_type": "code",
      "metadata": {
        "colab": {
          "base_uri": "https://localhost:8080/",
          "height": 204
        },
        "id": "eP0d20AJzvXF",
        "outputId": "2a89661b-70b2-4ad4-c7ed-347a7c185f68"
      },
      "source": [
        "titanic_data_new = titanic_data_new.drop(columns=['Age','Fare'])\r\n",
        "titanic_data_new = pd.concat([titanic_data_new,Age,Fare],axis=1)\r\n",
        "titanic_data_new.head()"
      ],
      "execution_count": 77,
      "outputs": [
        {
          "output_type": "execute_result",
          "data": {
            "text/html": [
              "<div>\n",
              "<style scoped>\n",
              "    .dataframe tbody tr th:only-of-type {\n",
              "        vertical-align: middle;\n",
              "    }\n",
              "\n",
              "    .dataframe tbody tr th {\n",
              "        vertical-align: top;\n",
              "    }\n",
              "\n",
              "    .dataframe thead th {\n",
              "        text-align: right;\n",
              "    }\n",
              "</style>\n",
              "<table border=\"1\" class=\"dataframe\">\n",
              "  <thead>\n",
              "    <tr style=\"text-align: right;\">\n",
              "      <th></th>\n",
              "      <th>female</th>\n",
              "      <th>male</th>\n",
              "      <th>1</th>\n",
              "      <th>2</th>\n",
              "      <th>3</th>\n",
              "      <th>C</th>\n",
              "      <th>Q</th>\n",
              "      <th>S</th>\n",
              "      <th>Age</th>\n",
              "      <th>Fare</th>\n",
              "    </tr>\n",
              "  </thead>\n",
              "  <tbody>\n",
              "    <tr>\n",
              "      <th>0</th>\n",
              "      <td>0</td>\n",
              "      <td>1</td>\n",
              "      <td>0</td>\n",
              "      <td>0</td>\n",
              "      <td>1</td>\n",
              "      <td>0</td>\n",
              "      <td>1</td>\n",
              "      <td>0</td>\n",
              "      <td>0.334592</td>\n",
              "      <td>-0.497811</td>\n",
              "    </tr>\n",
              "    <tr>\n",
              "      <th>1</th>\n",
              "      <td>1</td>\n",
              "      <td>0</td>\n",
              "      <td>0</td>\n",
              "      <td>0</td>\n",
              "      <td>1</td>\n",
              "      <td>0</td>\n",
              "      <td>0</td>\n",
              "      <td>1</td>\n",
              "      <td>1.323944</td>\n",
              "      <td>-0.512660</td>\n",
              "    </tr>\n",
              "    <tr>\n",
              "      <th>2</th>\n",
              "      <td>0</td>\n",
              "      <td>1</td>\n",
              "      <td>0</td>\n",
              "      <td>1</td>\n",
              "      <td>0</td>\n",
              "      <td>0</td>\n",
              "      <td>1</td>\n",
              "      <td>0</td>\n",
              "      <td>2.511166</td>\n",
              "      <td>-0.464532</td>\n",
              "    </tr>\n",
              "    <tr>\n",
              "      <th>3</th>\n",
              "      <td>0</td>\n",
              "      <td>1</td>\n",
              "      <td>0</td>\n",
              "      <td>0</td>\n",
              "      <td>1</td>\n",
              "      <td>0</td>\n",
              "      <td>0</td>\n",
              "      <td>1</td>\n",
              "      <td>-0.259019</td>\n",
              "      <td>-0.482888</td>\n",
              "    </tr>\n",
              "    <tr>\n",
              "      <th>4</th>\n",
              "      <td>1</td>\n",
              "      <td>0</td>\n",
              "      <td>0</td>\n",
              "      <td>0</td>\n",
              "      <td>1</td>\n",
              "      <td>0</td>\n",
              "      <td>0</td>\n",
              "      <td>1</td>\n",
              "      <td>-0.654760</td>\n",
              "      <td>-0.417971</td>\n",
              "    </tr>\n",
              "  </tbody>\n",
              "</table>\n",
              "</div>"
            ],
            "text/plain": [
              "   female  male  1  2  3  C  Q  S       Age      Fare\n",
              "0       0     1  0  0  1  0  1  0  0.334592 -0.497811\n",
              "1       1     0  0  0  1  0  0  1  1.323944 -0.512660\n",
              "2       0     1  0  1  0  0  1  0  2.511166 -0.464532\n",
              "3       0     1  0  0  1  0  0  1 -0.259019 -0.482888\n",
              "4       1     0  0  0  1  0  0  1 -0.654760 -0.417971"
            ]
          },
          "metadata": {
            "tags": []
          },
          "execution_count": 77
        }
      ]
    },
    {
      "cell_type": "markdown",
      "metadata": {
        "id": "zTX2d_wg1Y3H"
      },
      "source": [
        "Plotting"
      ]
    },
    {
      "cell_type": "code",
      "metadata": {
        "colab": {
          "base_uri": "https://localhost:8080/"
        },
        "id": "mideQ3U_z_TQ",
        "outputId": "9fcf3ea6-0dc9-407a-ec53-affcb2fc6eaf"
      },
      "source": [
        "titanic_data_new['index'] = titanic_data_new.index\r\n",
        "titanic_data_new.columns"
      ],
      "execution_count": 78,
      "outputs": [
        {
          "output_type": "execute_result",
          "data": {
            "text/plain": [
              "Index(['female', 'male', 1, 2, 3, 'C', 'Q', 'S', 'Age', 'Fare', 'index'], dtype='object')"
            ]
          },
          "metadata": {
            "tags": []
          },
          "execution_count": 78
        }
      ]
    },
    {
      "cell_type": "code",
      "metadata": {
        "colab": {
          "base_uri": "https://localhost:8080/",
          "height": 265
        },
        "id": "Zx2iKvFj2Zx_",
        "outputId": "d62d69a2-1b51-4c3f-a4c3-1c59ddb546f7"
      },
      "source": [
        "titanic_data_new['Age'].plot(kind='line')\r\n",
        "plt.show()"
      ],
      "execution_count": 80,
      "outputs": [
        {
          "output_type": "display_data",
          "data": {
            "image/png": "[encoded data removed]",
            "text/plain": [
              "<Figure size 432x288 with 1 Axes>"
            ]
          },
          "metadata": {
            "tags": [],
            "needs_background": "light"
          }
        }
      ]
    },
    {
      "cell_type": "code",
      "metadata": {
        "colab": {
          "base_uri": "https://localhost:8080/",
          "height": 279
        },
        "id": "sX3LYDA32lkZ",
        "outputId": "f4f09a9c-ad03-4245-db85-1f372ee9a244"
      },
      "source": [
        "titanic_data_new.plot(kind='scatter',x='index',y='Fare')\r\n",
        "plt.show()"
      ],
      "execution_count": 81,
      "outputs": [
        {
          "output_type": "display_data",
          "data": {
            "image/png": "[encoded data removed]",
            "text/plain": [
              "<Figure size 432x288 with 1 Axes>"
            ]
          },
          "metadata": {
            "tags": [],
            "needs_background": "light"
          }
        }
      ]
    },
    {
      "cell_type": "markdown",
      "metadata": {
        "id": "SyIISDM_2-__"
      },
      "source": [
        "Matplotlib"
      ]
    },
    {
      "cell_type": "code",
      "metadata": {
        "id": "mrivFMzf26xk"
      },
      "source": [
        "import matplotlib.pyplot as plt\r\n"
      ],
      "execution_count": 82,
      "outputs": []
    },
    {
      "cell_type": "code",
      "metadata": {
        "colab": {
          "base_uri": "https://localhost:8080/",
          "height": 338
        },
        "id": "fehxzlnc3Bn7",
        "outputId": "f64a1b84-9ea0-48db-c2a1-8a0a99551ca6"
      },
      "source": [
        "x = np.linspace(-3*np.pi,3*np.pi,300)\r\n",
        "y = np.sin(x)\r\n",
        "plt.figure(figsize=(5,5))\r\n",
        "plt.plot(x,y)\r\n",
        "plt.title(r'$\\sin(x)$')\r\n",
        "plt.show()"
      ],
      "execution_count": 84,
      "outputs": [
        {
          "output_type": "display_data",
          "data": {
            "image/png": "[encoded data removed]",
            "text/plain": [
              "<Figure size 360x360 with 1 Axes>"
            ]
          },
          "metadata": {
            "tags": [],
            "needs_background": "light"
          }
        }
      ]
    },
    {
      "cell_type": "code",
      "metadata": {
        "id": "eroljN3W3X0a"
      },
      "source": [
        ""
      ],
      "execution_count": null,
      "outputs": []
    }
  ]
}